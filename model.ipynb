{
 "cells": [
  {
   "cell_type": "code",
   "execution_count": 8,
   "metadata": {},
   "outputs": [
    {
     "data": {
      "application/vnd.jupyter.widget-view+json": {
       "model_id": "dbfcf587ec8442fc887377c6100f4a52",
       "version_major": 2,
       "version_minor": 0
      },
      "text/html": [
       "<p>Failed to display Jupyter Widget of type <code>Dropdown</code>.</p>\n",
       "<p>\n",
       "  If you're reading this message in the Jupyter Notebook or JupyterLab Notebook, it may mean\n",
       "  that the widgets JavaScript is still loading. If this message persists, it\n",
       "  likely means that the widgets JavaScript library is either not installed or\n",
       "  not enabled. See the <a href=\"https://ipywidgets.readthedocs.io/en/stable/user_install.html\">Jupyter\n",
       "  Widgets Documentation</a> for setup instructions.\n",
       "</p>\n",
       "<p>\n",
       "  If you're reading this message in another frontend (for example, a static\n",
       "  rendering on GitHub or <a href=\"https://nbviewer.jupyter.org/\">NBViewer</a>),\n",
       "  it may mean that your frontend doesn't currently support widgets.\n",
       "</p>\n"
      ],
      "text/plain": [
       "Dropdown(description='Date: ', index=2, options=('09/18', '10/18', '11/18', 'QTD', 'YTD'), value='11/18')"
      ]
     },
     "metadata": {},
     "output_type": "display_data"
    },
    {
     "data": {
      "application/vnd.jupyter.widget-view+json": {
       "model_id": "657e90f691c0458eac3b0ca29782f971",
       "version_major": 2,
       "version_minor": 0
      },
      "text/html": [
       "<p>Failed to display Jupyter Widget of type <code>Dropdown</code>.</p>\n",
       "<p>\n",
       "  If you're reading this message in the Jupyter Notebook or JupyterLab Notebook, it may mean\n",
       "  that the widgets JavaScript is still loading. If this message persists, it\n",
       "  likely means that the widgets JavaScript library is either not installed or\n",
       "  not enabled. See the <a href=\"https://ipywidgets.readthedocs.io/en/stable/user_install.html\">Jupyter\n",
       "  Widgets Documentation</a> for setup instructions.\n",
       "</p>\n",
       "<p>\n",
       "  If you're reading this message in another frontend (for example, a static\n",
       "  rendering on GitHub or <a href=\"https://nbviewer.jupyter.org/\">NBViewer</a>),\n",
       "  it may mean that your frontend doesn't currently support widgets.\n",
       "</p>\n"
      ],
      "text/plain": [
       "Dropdown(description='Account: ', options=('Acct', 'Acq', 'Admin', 'Asset Mgmt', 'BDREX', 'Corp Mgmt', 'Finance', 'HR', 'IR', 'IS', 'IT', 'Legal', 'Mkt', 'No Dept', 'Port Mgmt', 'Tax'), value='Acct')"
      ]
     },
     "metadata": {},
     "output_type": "display_data"
    },
    {
     "data": {
      "application/vnd.jupyter.widget-view+json": {
       "model_id": "3f5ebe3c3bc04f28b9a7130d6f548ab8",
       "version_major": 2,
       "version_minor": 0
      },
      "text/html": [
       "<p>Failed to display Jupyter Widget of type <code>Dropdown</code>.</p>\n",
       "<p>\n",
       "  If you're reading this message in the Jupyter Notebook or JupyterLab Notebook, it may mean\n",
       "  that the widgets JavaScript is still loading. If this message persists, it\n",
       "  likely means that the widgets JavaScript library is either not installed or\n",
       "  not enabled. See the <a href=\"https://ipywidgets.readthedocs.io/en/stable/user_install.html\">Jupyter\n",
       "  Widgets Documentation</a> for setup instructions.\n",
       "</p>\n",
       "<p>\n",
       "  If you're reading this message in another frontend (for example, a static\n",
       "  rendering on GitHub or <a href=\"https://nbviewer.jupyter.org/\">NBViewer</a>),\n",
       "  it may mean that your frontend doesn't currently support widgets.\n",
       "</p>\n"
      ],
      "text/plain": [
       "Dropdown(description='Item:', options=('PAYROLL', 'PAYROLL TAXES', 'HEALTH & DENTAL', 'RETIREMENT', 'EDUCATION', 'Payroll - BRE dividends', 'TRAVEL', 'MEALS AND ENTERTAINMENT', 'SUBSCRIPTIONS', 'CONSULTING- ACCOUNTING', 'CORPORATE FUNCTIONS', 'DEPARTMENT OUTINGS', 'BANK FEES', 'OFFICE EQPT EXPENSE', 'CELL PHONES'), value='PAYROLL')"
      ]
     },
     "metadata": {},
     "output_type": "display_data"
    },
    {
     "data": {
      "application/vnd.jupyter.widget-view+json": {
       "model_id": "f997444d83b64a2c9de211c32074d0a2",
       "version_major": 2,
       "version_minor": 0
      },
      "text/html": [
       "<p>Failed to display Jupyter Widget of type <code>Button</code>.</p>\n",
       "<p>\n",
       "  If you're reading this message in the Jupyter Notebook or JupyterLab Notebook, it may mean\n",
       "  that the widgets JavaScript is still loading. If this message persists, it\n",
       "  likely means that the widgets JavaScript library is either not installed or\n",
       "  not enabled. See the <a href=\"https://ipywidgets.readthedocs.io/en/stable/user_install.html\">Jupyter\n",
       "  Widgets Documentation</a> for setup instructions.\n",
       "</p>\n",
       "<p>\n",
       "  If you're reading this message in another frontend (for example, a static\n",
       "  rendering on GitHub or <a href=\"https://nbviewer.jupyter.org/\">NBViewer</a>),\n",
       "  it may mean that your frontend doesn't currently support widgets.\n",
       "</p>\n"
      ],
      "text/plain": [
       "Button(description='Click to Export', style=ButtonStyle())"
      ]
     },
     "metadata": {},
     "output_type": "display_data"
    }
   ],
   "source": [
    "import pandas as pd\n",
    "import numpy as np\n",
    "from ipywidgets import *\n",
    "from IPython.display import display, clear_output\n",
    "import datetime\n",
    "import os\n",
    "import tkinter as tk\n",
    "from tkinter import filedialog\n",
    "import matplotlib\n",
    "matplotlib.use('Agg')\n",
    "\n",
    "\n",
    "pd.options.display.float_format = '{:,.2f}'.format\n",
    "now = datetime.datetime.now()\n",
    "end_date = str(now.month) + \"/\" + str(now.year)[-2:] if now.month >=10 else '0' + str(now.month) + \"/\" + str(now.year)[-2:]\n",
    "beg_dict = {'01': ['01', '02', '03'], '04': ['04', '05', '06'], '07': ['07', '08', '09'], '10': ['10', '11', '12']}\n",
    "\n",
    "beg_date_Q = [k for (k, v) in beg_dict.items() for i in range(0, len(v)) if end_date[:2] == v[i]][0]+'/'+ str(now.year)[-2:]\n",
    "beg_date_Y = '01/'+str(now.year)[-2:]\n",
    "date_dict = {'QTD': beg_date_Q, 'YTD': beg_date_Y}\n",
    "\n",
    "data = pd.read_csv('test.csv', skiprows=2, names=['Account', 'Acc_Date', 'Acc_B', 'Acc_Raw', \n",
    "                                                                            'rom', 'len', 'num', 'text_date', 'date1',\n",
    "                                                                           'date2', 'temp', 'temp2', 'temp3', 'temp4',\n",
    "                                                                           'Dept', 'Item', 'Amt', 'Amt2', 'Gross',\n",
    "                                                                           'temp5', 'temp6'])\n",
    "columns = ['rom', 'len', 'num', 'date1', 'date2', 'temp', 'temp2', 'temp3', 'temp4', 'temp5', 'temp6']\n",
    "data = data.drop(columns=columns)\n",
    "data.dropna(inplace=True)\n",
    "dept_dict = {'A': 'Acct', 'B':'Finance', 'C': 'Tax', 'D': 'Asset Mgmt', 'E': 'Port Mgmt', 'F': 'Acq', 'G': 'HR',\n",
    "            'H': 'IT', 'I': 'Legal', 'J': 'Admin', 'K': 'Mkt', 'L': 'IR', 'M': 'IS', 'N': 'BDREX', 'O': 'Corp Mgmt', \n",
    "             'P': 'No Dept'}\n",
    "\n",
    "data['Dep_Name'] = data['Dept'].apply(lambda x: dept_dict[x])\n",
    "\n",
    "item = pd.read_csv('item.csv', names=['Account', 'Item_name'])\n",
    "\n",
    "df = pd.merge(data, item, how='left', left_on='Acc_Raw', right_on='Account')\n",
    "df['Total'] = df['Amt'] - df['Amt2']\n",
    "\n",
    "date_menu = df.groupby('text_date').count()\n",
    "default = date_menu.index.tolist()\n",
    "default.append('QTD')\n",
    "default.append('YTD')\n",
    "\n",
    "d = widgets.Dropdown(\n",
    "    options=default,\n",
    "    value=default[2],\n",
    "    description='Date: ',\n",
    "    disabled=False,\n",
    ")\n",
    "\n",
    "dep_menu = df.groupby('Dep_Name').count()\n",
    "default_d = dep_menu.index.tolist()\n",
    "\n",
    "dep = widgets.Dropdown(\n",
    "    options=default_d,\n",
    "    value=default_d[0],\n",
    "    description='Account: ',\n",
    "    disabled=False,\n",
    ")\n",
    "\n",
    "item_menu = df[(df['text_date'] == d.value) & (df['Dep_Name'] == dep.value)]['Item_name'].unique()\n",
    "default_i = item_menu.tolist()[0]\n",
    "\n",
    "i = widgets.Dropdown(\n",
    "    options=item_menu.tolist(),\n",
    "    value=default_i,\n",
    "    description='Item:',\n",
    "    disabled=False,\n",
    ")\n",
    "\n",
    "button = widgets.Button(description=\"Click to Export\")\n",
    "\n",
    "\n",
    "def on_change(change):\n",
    "    clear_output()\n",
    "    display(d, dep, i, button)\n",
    "    \n",
    "    if (d.value == 'QTD') or (d.value == 'YTD'):\n",
    "        date = df[(df['Dep_Name'] == dep.value) & (df['text_date'] >= date_dict[d.value])][['text_date','Item_name','Item', 'Total']]\n",
    "        show = date.groupby(['text_date', 'Item_name']).sum()\n",
    "        show_f = show.unstack(level=0)\n",
    "        show_f = show_f.fillna(0)\n",
    "        show_f.columns = show_f.columns.droplevel(0)\n",
    "        show_f.columns.name = None\n",
    "        show_f['Total'] = show_f.apply(lambda x: sum(x[show_f.columns]), axis=1)\n",
    "        show_f.loc['Total',:] = show_f.apply(np.sum, axis=0)\n",
    "        show_f = show_f.applymap(lambda x: '${0:,.2f}'.format(x) if x>0 else '$({0:,.2f})'.format(abs(x)))\n",
    "        output = df[(df['text_date'] >= beg_date_Q) & (df['Dep_Name'] == dep.value) & (df['Item_name'] == i.value)][['Item', 'Total']]\n",
    "        output = output.reset_index()\n",
    "        output = output.set_index('Item')\n",
    "        output = output.drop('index', axis=1)\n",
    "        output = output.applymap(lambda x: '${0:,.2f}'.format(x) if x>0 else '$({0:,.2f})'.format(abs(x)))\n",
    "        print(show_f)\n",
    "        print(\"\\n=================================================================================\")\n",
    "        print(output)\n",
    "        print(\"\\n=================================================================================\")\n",
    "    else:\n",
    "        date = df[(df['Dep_Name'] == dep.value) & (df['text_date'] == d.value)][['text_date','Item_name','Item', 'Total']]\n",
    "        show = date.groupby(['text_date', 'Item_name']).sum()\n",
    "        show_f = show.unstack(level=0)\n",
    "        show_f = show_f.fillna(0)\n",
    "        show_f.columns = show_f.columns.droplevel(0)\n",
    "        show_f.columns.name = None\n",
    "        show_f.loc['Total',:] = show_f.apply(np.sum, axis=0)\n",
    "        show_f = show_f.applymap(lambda x: '${0:,.2f}'.format(x) if x>0 else '$({0:,.2f})'.format(abs(x)))\n",
    "        output = df[(df['text_date'] == d.value) & (df['Dep_Name'] == dep.value) & (df['Item_name'] == i.value)][['Item', 'Total']]\n",
    "        output = output.reset_index()\n",
    "        output = output.set_index('Item')\n",
    "        output = output.drop('index', axis=1)\n",
    "        output = output.applymap(lambda x: '${0:,.2f}'.format(x) if x>0 else '$({0:,.2f})'.format(abs(x)))\n",
    "        print(show_f)\n",
    "        print(\"\\n=================================================================================\")\n",
    "        print(output)\n",
    "        print(\"\\n=================================================================================\")\n",
    "    return (show_f, output)\n",
    "        \n",
    "def on_button_clicked(b):\n",
    "    root = tk.Tk()\n",
    "    root.withdraw()\n",
    "    try:\n",
    "        dirname = filedialog.askdirectory(parent=root,initialdir=\"/\",title='Please select a directory')\n",
    "        name = dep.value+\"_\"+d.value[:2]+\"_Summary.xlsx\"\n",
    "        writer = pd.ExcelWriter(dirname+ \"\\\\\" + name)\n",
    "        show_f = on_change(d)[0]\n",
    "        output = on_change(d)[1]\n",
    "        show_f.to_excel(writer,'Sheet1')\n",
    "        output.to_excel(writer,'Sheet2')\n",
    "        writer.save()\n",
    "        print(\"File will be saved to current directory with the name: \" + name)\n",
    "    except:\n",
    "        print(\"No directory selected\")\n",
    "    \n",
    "\n",
    "display(d, dep, i, button)\n",
    "d.observe(on_change)\n",
    "dep.observe(on_change)\n",
    "i.observe(on_change)\n",
    "button.on_click(on_button_clicked)\n"
   ]
  },
  {
   "cell_type": "code",
   "execution_count": null,
   "metadata": {},
   "outputs": [],
   "source": []
  },
  {
   "cell_type": "code",
   "execution_count": null,
   "metadata": {},
   "outputs": [],
   "source": []
  }
 ],
 "metadata": {
  "kernelspec": {
   "display_name": "Python 3",
   "language": "python",
   "name": "python3"
  },
  "language_info": {
   "codemirror_mode": {
    "name": "ipython",
    "version": 3
   },
   "file_extension": ".py",
   "mimetype": "text/x-python",
   "name": "python",
   "nbconvert_exporter": "python",
   "pygments_lexer": "ipython3",
   "version": "3.6.6"
  }
 },
 "nbformat": 4,
 "nbformat_minor": 2
}
